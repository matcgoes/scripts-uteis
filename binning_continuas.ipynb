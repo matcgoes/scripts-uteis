{
  "nbformat": 4,
  "nbformat_minor": 0,
  "metadata": {
    "colab": {
      "provenance": []
    },
    "kernelspec": {
      "name": "python3",
      "display_name": "Python 3"
    },
    "language_info": {
      "name": "python"
    }
  },
  "cells": [
    {
      "cell_type": "code",
      "execution_count": 1,
      "metadata": {
        "id": "b-KTC_0HKr0t"
      },
      "outputs": [],
      "source": [
        "import pandas as pd\n",
        "import numpy as np"
      ]
    },
    {
      "cell_type": "code",
      "source": [
        "# Definir o tamanho do dataframe de treino e teste\n",
        "num_samples_train = 1000\n",
        "num_samples_test = 500\n",
        "\n",
        "# Gerar dados fictícios para as variáveis explicativas sem missings\n",
        "var1_train = np.random.randint(0, 10000, size=num_samples_train)\n",
        "var2_train = np.random.randint(0, 10000, size=num_samples_train)\n",
        "var3_train = np.random.randint(0, 10000, size=num_samples_train)\n",
        "\n",
        "var1_test = np.random.randint(0, 10000, size=num_samples_test)\n",
        "var2_test = np.random.randint(0, 10000, size=num_samples_test)\n",
        "var3_test = np.random.randint(0, 10000, size=num_samples_test)\n",
        "\n",
        "# Gerar os rótulos da variável target (RESP)\n",
        "target_train = np.random.choice([0, 1], size=num_samples_train)\n",
        "target_test = np.random.choice([0, 1], size=num_samples_test)\n",
        "\n",
        "# Criar o dataframe de treino\n",
        "train = pd.DataFrame({'VAR1': var1_train, 'VAR2': var2_train, 'VAR3': var3_train, 'RESP': target_train})\n",
        "\n",
        "# Criar o dataframe de teste\n",
        "test = pd.DataFrame({'VAR1': var1_test, 'VAR2': var2_test, 'VAR3': var3_test, 'RESP': target_test})\n",
        "\n",
        "# Substituir 20% dos valores de cada variável explicativa (exceto target) por NaN (missing)\n",
        "train.loc[:, 'VAR1'].iloc[np.random.choice(num_samples_train, int(num_samples_train * 0.2), replace=False)] = np.nan\n",
        "train.loc[:, 'VAR2'].iloc[np.random.choice(num_samples_train, int(num_samples_train * 0.2), replace=False)] = np.nan\n",
        "train.loc[:, 'VAR3'].iloc[np.random.choice(num_samples_train, int(num_samples_train * 0.2), replace=False)] = np.nan\n",
        "\n",
        "test.loc[:, 'VAR1'].iloc[np.random.choice(num_samples_test, int(num_samples_test * 0.2), replace=False)] = np.nan\n",
        "test.loc[:, 'VAR2'].iloc[np.random.choice(num_samples_test, int(num_samples_test * 0.2), replace=False)] = np.nan\n",
        "test.loc[:, 'VAR3'].iloc[np.random.choice(num_samples_test, int(num_samples_test * 0.2), replace=False)] = np.nan\n"
      ],
      "metadata": {
        "colab": {
          "base_uri": "https://localhost:8080/"
        },
        "id": "yXS7fBQwaosd",
        "outputId": "4484121f-4f84-4d96-fa04-fc6f6baf0459"
      },
      "execution_count": 150,
      "outputs": [
        {
          "output_type": "stream",
          "name": "stderr",
          "text": [
            "<ipython-input-150-5b22d898a2da>:26: SettingWithCopyWarning: \n",
            "A value is trying to be set on a copy of a slice from a DataFrame\n",
            "\n",
            "See the caveats in the documentation: https://pandas.pydata.org/pandas-docs/stable/user_guide/indexing.html#returning-a-view-versus-a-copy\n",
            "  train.loc[:, 'VAR2'].iloc[np.random.choice(num_samples_train, int(num_samples_train * 0.2), replace=False)] = np.nan\n",
            "<ipython-input-150-5b22d898a2da>:27: SettingWithCopyWarning: \n",
            "A value is trying to be set on a copy of a slice from a DataFrame\n",
            "\n",
            "See the caveats in the documentation: https://pandas.pydata.org/pandas-docs/stable/user_guide/indexing.html#returning-a-view-versus-a-copy\n",
            "  train.loc[:, 'VAR3'].iloc[np.random.choice(num_samples_train, int(num_samples_train * 0.2), replace=False)] = np.nan\n",
            "<ipython-input-150-5b22d898a2da>:30: SettingWithCopyWarning: \n",
            "A value is trying to be set on a copy of a slice from a DataFrame\n",
            "\n",
            "See the caveats in the documentation: https://pandas.pydata.org/pandas-docs/stable/user_guide/indexing.html#returning-a-view-versus-a-copy\n",
            "  test.loc[:, 'VAR2'].iloc[np.random.choice(num_samples_test, int(num_samples_test * 0.2), replace=False)] = np.nan\n",
            "<ipython-input-150-5b22d898a2da>:31: SettingWithCopyWarning: \n",
            "A value is trying to be set on a copy of a slice from a DataFrame\n",
            "\n",
            "See the caveats in the documentation: https://pandas.pydata.org/pandas-docs/stable/user_guide/indexing.html#returning-a-view-versus-a-copy\n",
            "  test.loc[:, 'VAR3'].iloc[np.random.choice(num_samples_test, int(num_samples_test * 0.2), replace=False)] = np.nan\n"
          ]
        }
      ]
    },
    {
      "cell_type": "code",
      "source": [
        "train['C_VAR1'], bins = pd.cut(train['VAR1'], 5, retbins=True, duplicates='drop', include_lowest=False)"
      ],
      "metadata": {
        "id": "RvZjRVvLNbX8"
      },
      "execution_count": 162,
      "outputs": []
    },
    {
      "cell_type": "code",
      "source": [
        "train.groupby('C_VAR1')['RESP'].mean().sort_values()"
      ],
      "metadata": {
        "colab": {
          "base_uri": "https://localhost:8080/"
        },
        "id": "l7QXnYfaNz6O",
        "outputId": "7e6773e8-5c0a-4e74-e051-eef1d563f078"
      },
      "execution_count": 163,
      "outputs": [
        {
          "output_type": "execute_result",
          "data": {
            "text/plain": [
              "C_VAR1\n",
              "(4000.2, 5995.8]    0.493827\n",
              "(5995.8, 7991.4]    0.532051\n",
              "(2004.6, 4000.2]    0.533784\n",
              "(-0.978, 2004.6]    0.538012\n",
              "(7991.4, 9987.0]    0.564417\n",
              "Name: RESP, dtype: float64"
            ]
          },
          "metadata": {},
          "execution_count": 163
        }
      ]
    },
    {
      "cell_type": "code",
      "source": [
        "sorted(bins)"
      ],
      "metadata": {
        "colab": {
          "base_uri": "https://localhost:8080/"
        },
        "id": "SpEZ69bnNqDK",
        "outputId": "6fd59cff-da2a-4f76-ef44-670c8781ef05"
      },
      "execution_count": 9,
      "outputs": [
        {
          "output_type": "execute_result",
          "data": {
            "text/plain": [
              "[31.043, 2032.4, 4023.8, 6015.200000000001, 8006.6, 9998.0]"
            ]
          },
          "metadata": {},
          "execution_count": 9
        }
      ]
    },
    {
      "cell_type": "code",
      "source": [
        "def categoriza_cont(train, test, target_col, feature_col, num_bins, log=False):\n",
        "    # Criar cópia do dataframe original para evitar alterações indesejadas\n",
        "    df = train.copy()\n",
        "\n",
        "    # Criar bins usando a função cut do pandas\n",
        "    if log:\n",
        "      df['bins'], interval = pd.cut(np.log(df[feature_col]+1), num_bins, retbins=True, duplicates='drop', include_lowest=False)\n",
        "    else:\n",
        "      df['bins'], interval = pd.cut(df[feature_col], num_bins, retbins=True, duplicates='drop', include_lowest=False)\n",
        "\n",
        "    # Calcular a bad rate em cada domínio\n",
        "    bad_rate = df.groupby('bins')[target_col].mean()\n",
        "\n",
        "    # Calcular a bad rate em missings\n",
        "    # missing = df[df[feature_col].isna()][target_col].mean()\n",
        "\n",
        "    #Juntar e Ordenar\n",
        "    # bad_rate = bad_rate.append(pd.Series({np.nan: missing}))\n",
        "    sorted_bins = bad_rate.sort_values()  \n",
        "\n",
        "    \n",
        "    # Mapear as categorias para os índices ordenados\n",
        "    bin_mapping = {bin_val: i for i, bin_val in enumerate(sorted_bins.index)}\n",
        "    df[f'C_{feature_col}'] = df['bins'].map(bin_mapping).astype(float)\n",
        "    df.loc[df[feature_col].isna(), f'C_{feature_col}'] = -1\n",
        "    # df.drop('bins',axis=1, inplace=True)\n",
        "\n",
        "    # Aplicação das mesmas regras na base de teste\n",
        "    if log:\n",
        "      test[f'C_{feature_col}'] = pd.cut(np.log(test[feature_col]+1), bins=interval, labels=False)\n",
        "    else:\n",
        "      test[f'C_{feature_col}'] = pd.cut(test[feature_col], bins=interval, labels=False)\n",
        "\n",
        "    test[f'C_{feature_col}'] = test[f'C_{feature_col}'].map(bin_mapping).astype(float)\n",
        "    test.loc[test[feature_col].isna(), f'C_{feature_col}'] = -1\n",
        "\n",
        "    return df, test, bin_mapping\n"
      ],
      "metadata": {
        "id": "02FoRoSuNJDV"
      },
      "execution_count": 158,
      "outputs": []
    },
    {
      "cell_type": "code",
      "source": [
        "train, test, bin1 = categoriza_cont(train,test,'RESP','VAR1', 5)\n",
        "train, test, bin2 = categoriza_cont(train,test,'RESP','VAR2', 5)\n",
        "train, test, bin3 = categoriza_cont(train,test,'RESP','VAR3', 10,log=True)"
      ],
      "metadata": {
        "id": "9sKkesrzSpgL"
      },
      "execution_count": 159,
      "outputs": []
    },
    {
      "cell_type": "code",
      "source": [
        "bin3"
      ],
      "metadata": {
        "colab": {
          "base_uri": "https://localhost:8080/"
        },
        "id": "m31_FeKmkgg-",
        "outputId": "0041a461-041c-48e0-de03-0edeeaf96872"
      },
      "execution_count": 160,
      "outputs": [
        {
          "output_type": "execute_result",
          "data": {
            "text/plain": [
              "{Interval(2.558, 3.229, closed='right'): 0,\n",
              " Interval(4.558, 5.223, closed='right'): 1,\n",
              " Interval(6.551, 7.216, closed='right'): 2,\n",
              " Interval(3.894, 4.558, closed='right'): 3,\n",
              " Interval(8.545, 9.209, closed='right'): 4,\n",
              " Interval(5.887, 6.551, closed='right'): 5,\n",
              " Interval(7.88, 8.545, closed='right'): 6,\n",
              " Interval(5.223, 5.887, closed='right'): 7,\n",
              " Interval(7.216, 7.88, closed='right'): 8,\n",
              " Interval(3.229, 3.894, closed='right'): 9}"
            ]
          },
          "metadata": {},
          "execution_count": 160
        }
      ]
    },
    {
      "cell_type": "code",
      "source": [
        "test['VAR3LOG'] = np.log(test['VAR3']+1)\n",
        "test[test['C_VAR3'].isna()]"
      ],
      "metadata": {
        "colab": {
          "base_uri": "https://localhost:8080/",
          "height": 175
        },
        "id": "SXqV7tzwiWw-",
        "outputId": "2fd628b3-6f38-479d-bea3-1038fc8b3fb3"
      },
      "execution_count": 161,
      "outputs": [
        {
          "output_type": "execute_result",
          "data": {
            "text/plain": [
              "       VAR1    VAR2    VAR3  RESP  C_VAR1  C_VAR2  C_VAR3   VAR3LOG\n",
              "126  1365.0  3753.0    30.0     1     3.0     2.0     NaN  3.433987\n",
              "246  6154.0  9078.0    16.0     1     3.0     2.0     NaN  2.833213\n",
              "253  7835.0  3269.0  9991.0     1     3.0     2.0     NaN  9.209540\n",
              "262  3484.0  9221.0    23.0     0     3.0     2.0     NaN  3.178054"
            ],
            "text/html": [
              "\n",
              "  <div id=\"df-8a6edb6a-45ca-43da-bc08-ef4c47a5c9a2\">\n",
              "    <div class=\"colab-df-container\">\n",
              "      <div>\n",
              "<style scoped>\n",
              "    .dataframe tbody tr th:only-of-type {\n",
              "        vertical-align: middle;\n",
              "    }\n",
              "\n",
              "    .dataframe tbody tr th {\n",
              "        vertical-align: top;\n",
              "    }\n",
              "\n",
              "    .dataframe thead th {\n",
              "        text-align: right;\n",
              "    }\n",
              "</style>\n",
              "<table border=\"1\" class=\"dataframe\">\n",
              "  <thead>\n",
              "    <tr style=\"text-align: right;\">\n",
              "      <th></th>\n",
              "      <th>VAR1</th>\n",
              "      <th>VAR2</th>\n",
              "      <th>VAR3</th>\n",
              "      <th>RESP</th>\n",
              "      <th>C_VAR1</th>\n",
              "      <th>C_VAR2</th>\n",
              "      <th>C_VAR3</th>\n",
              "      <th>VAR3LOG</th>\n",
              "    </tr>\n",
              "  </thead>\n",
              "  <tbody>\n",
              "    <tr>\n",
              "      <th>126</th>\n",
              "      <td>1365.0</td>\n",
              "      <td>3753.0</td>\n",
              "      <td>30.0</td>\n",
              "      <td>1</td>\n",
              "      <td>3.0</td>\n",
              "      <td>2.0</td>\n",
              "      <td>NaN</td>\n",
              "      <td>3.433987</td>\n",
              "    </tr>\n",
              "    <tr>\n",
              "      <th>246</th>\n",
              "      <td>6154.0</td>\n",
              "      <td>9078.0</td>\n",
              "      <td>16.0</td>\n",
              "      <td>1</td>\n",
              "      <td>3.0</td>\n",
              "      <td>2.0</td>\n",
              "      <td>NaN</td>\n",
              "      <td>2.833213</td>\n",
              "    </tr>\n",
              "    <tr>\n",
              "      <th>253</th>\n",
              "      <td>7835.0</td>\n",
              "      <td>3269.0</td>\n",
              "      <td>9991.0</td>\n",
              "      <td>1</td>\n",
              "      <td>3.0</td>\n",
              "      <td>2.0</td>\n",
              "      <td>NaN</td>\n",
              "      <td>9.209540</td>\n",
              "    </tr>\n",
              "    <tr>\n",
              "      <th>262</th>\n",
              "      <td>3484.0</td>\n",
              "      <td>9221.0</td>\n",
              "      <td>23.0</td>\n",
              "      <td>0</td>\n",
              "      <td>3.0</td>\n",
              "      <td>2.0</td>\n",
              "      <td>NaN</td>\n",
              "      <td>3.178054</td>\n",
              "    </tr>\n",
              "  </tbody>\n",
              "</table>\n",
              "</div>\n",
              "      <button class=\"colab-df-convert\" onclick=\"convertToInteractive('df-8a6edb6a-45ca-43da-bc08-ef4c47a5c9a2')\"\n",
              "              title=\"Convert this dataframe to an interactive table.\"\n",
              "              style=\"display:none;\">\n",
              "        \n",
              "  <svg xmlns=\"http://www.w3.org/2000/svg\" height=\"24px\"viewBox=\"0 0 24 24\"\n",
              "       width=\"24px\">\n",
              "    <path d=\"M0 0h24v24H0V0z\" fill=\"none\"/>\n",
              "    <path d=\"M18.56 5.44l.94 2.06.94-2.06 2.06-.94-2.06-.94-.94-2.06-.94 2.06-2.06.94zm-11 1L8.5 8.5l.94-2.06 2.06-.94-2.06-.94L8.5 2.5l-.94 2.06-2.06.94zm10 10l.94 2.06.94-2.06 2.06-.94-2.06-.94-.94-2.06-.94 2.06-2.06.94z\"/><path d=\"M17.41 7.96l-1.37-1.37c-.4-.4-.92-.59-1.43-.59-.52 0-1.04.2-1.43.59L10.3 9.45l-7.72 7.72c-.78.78-.78 2.05 0 2.83L4 21.41c.39.39.9.59 1.41.59.51 0 1.02-.2 1.41-.59l7.78-7.78 2.81-2.81c.8-.78.8-2.07 0-2.86zM5.41 20L4 18.59l7.72-7.72 1.47 1.35L5.41 20z\"/>\n",
              "  </svg>\n",
              "      </button>\n",
              "      \n",
              "  <style>\n",
              "    .colab-df-container {\n",
              "      display:flex;\n",
              "      flex-wrap:wrap;\n",
              "      gap: 12px;\n",
              "    }\n",
              "\n",
              "    .colab-df-convert {\n",
              "      background-color: #E8F0FE;\n",
              "      border: none;\n",
              "      border-radius: 50%;\n",
              "      cursor: pointer;\n",
              "      display: none;\n",
              "      fill: #1967D2;\n",
              "      height: 32px;\n",
              "      padding: 0 0 0 0;\n",
              "      width: 32px;\n",
              "    }\n",
              "\n",
              "    .colab-df-convert:hover {\n",
              "      background-color: #E2EBFA;\n",
              "      box-shadow: 0px 1px 2px rgba(60, 64, 67, 0.3), 0px 1px 3px 1px rgba(60, 64, 67, 0.15);\n",
              "      fill: #174EA6;\n",
              "    }\n",
              "\n",
              "    [theme=dark] .colab-df-convert {\n",
              "      background-color: #3B4455;\n",
              "      fill: #D2E3FC;\n",
              "    }\n",
              "\n",
              "    [theme=dark] .colab-df-convert:hover {\n",
              "      background-color: #434B5C;\n",
              "      box-shadow: 0px 1px 3px 1px rgba(0, 0, 0, 0.15);\n",
              "      filter: drop-shadow(0px 1px 2px rgba(0, 0, 0, 0.3));\n",
              "      fill: #FFFFFF;\n",
              "    }\n",
              "  </style>\n",
              "\n",
              "      <script>\n",
              "        const buttonEl =\n",
              "          document.querySelector('#df-8a6edb6a-45ca-43da-bc08-ef4c47a5c9a2 button.colab-df-convert');\n",
              "        buttonEl.style.display =\n",
              "          google.colab.kernel.accessAllowed ? 'block' : 'none';\n",
              "\n",
              "        async function convertToInteractive(key) {\n",
              "          const element = document.querySelector('#df-8a6edb6a-45ca-43da-bc08-ef4c47a5c9a2');\n",
              "          const dataTable =\n",
              "            await google.colab.kernel.invokeFunction('convertToInteractive',\n",
              "                                                     [key], {});\n",
              "          if (!dataTable) return;\n",
              "\n",
              "          const docLinkHtml = 'Like what you see? Visit the ' +\n",
              "            '<a target=\"_blank\" href=https://colab.research.google.com/notebooks/data_table.ipynb>data table notebook</a>'\n",
              "            + ' to learn more about interactive tables.';\n",
              "          element.innerHTML = '';\n",
              "          dataTable['output_type'] = 'display_data';\n",
              "          await google.colab.output.renderOutput(dataTable, element);\n",
              "          const docLink = document.createElement('div');\n",
              "          docLink.innerHTML = docLinkHtml;\n",
              "          element.appendChild(docLink);\n",
              "        }\n",
              "      </script>\n",
              "    </div>\n",
              "  </div>\n",
              "  "
            ]
          },
          "metadata": {},
          "execution_count": 161
        }
      ]
    },
    {
      "cell_type": "code",
      "source": [],
      "metadata": {
        "colab": {
          "base_uri": "https://localhost:8080/"
        },
        "id": "Hfk4-S0Ak5RE",
        "outputId": "b852fae0-f699-43fc-c5d7-23d20fcd7e01"
      },
      "execution_count": 142,
      "outputs": [
        {
          "output_type": "stream",
          "name": "stderr",
          "text": [
            "/usr/local/lib/python3.10/dist-packages/pandas/core/arraylike.py:402: RuntimeWarning: divide by zero encountered in log\n",
            "  result = getattr(ufunc, method)(*inputs, **kwargs)\n"
          ]
        },
        {
          "output_type": "execute_result",
          "data": {
            "text/plain": [
              "0     -inf\n",
              "1      0.0\n",
              "2      0.0\n",
              "3      0.0\n",
              "4      0.0\n",
              "      ... \n",
              "495    0.0\n",
              "496    NaN\n",
              "497    0.0\n",
              "498    0.0\n",
              "499   -inf\n",
              "Name: C_VAR3, Length: 500, dtype: float64"
            ]
          },
          "metadata": {},
          "execution_count": 142
        }
      ]
    },
    {
      "cell_type": "code",
      "source": [
        "def categorizar_variaveis_continuas(base_treino, base_teste, variaveis, variavel_alvo, bins):\n",
        "    for variavel in variaveis:\n",
        "        # Categorização da variável contínua usando pd.cut\n",
        "        base_treino[f'{variavel}_categorizada'], intervalos = pd.cut(base_treino[variavel], bins, labels=False, retbins=True)\n",
        "\n",
        "        # Criação da tabela de frequências e cálculo da Bad Rate por categoria\n",
        "        tabela_frequencias = pd.crosstab(base_treino[f'{variavel}_categorizada'], base_treino[variavel_alvo])\n",
        "        tabela_frequencias['bad_rate'] = tabela_frequencias[1] / tabela_frequencias.sum(axis=1)\n",
        "\n",
        "        # Cálculo da Bad Rate para os valores missing\n",
        "        bad_rate_missing = base_treino[variavel_alvo].isnull().sum() / len(base_treino)\n",
        "\n",
        "        # Adição da Bad Rate dos valores missing à tabela de frequências\n",
        "        tabela_frequencias.loc[np.nan, 'bad_rate'] = bad_rate_missing\n",
        "\n",
        "        # Ordenação das categorias pela Bad Rate\n",
        "        categorias_ordenadas = tabela_frequencias.sort_values('bad_rate').index.tolist()\n",
        "\n",
        "        # Atribuição de rótulos em ordem crescente\n",
        "        rotulos = range(len(categorias_ordenadas))\n",
        "        rotulos_dict = {categoria: rotulo for categoria, rotulo in zip(categorias_ordenadas, rotulos)}\n",
        "\n",
        "        # Aplicação das regras na base de treino\n",
        "        base_treino[f'{variavel}_categorizada'] = base_treino[f'{variavel}_categorizada'].map(rotulos_dict)\n",
        "\n",
        "        # Aplicação das mesmas regras na base de teste\n",
        "        base_teste[f'{variavel}_categorizada'] = pd.cut(base_teste[variavel], bins=intervalos, labels=False)\n",
        "        base_teste[f'{variavel}_categorizada'] = base_teste[f'{variavel}_categorizada'].map(rotulos_dict)\n",
        "\n",
        "    return base_treino, base_teste"
      ],
      "metadata": {
        "id": "HG3-iXofhGqn"
      },
      "execution_count": null,
      "outputs": []
    },
    {
      "cell_type": "code",
      "source": [
        "train[train['VAR1'].isna()]"
      ],
      "metadata": {
        "colab": {
          "base_uri": "https://localhost:8080/",
          "height": 423
        },
        "id": "UUPv_LqGbPQ0",
        "outputId": "456fe30b-8cc6-4a49-bf23-c48393ceb60a"
      },
      "execution_count": 70,
      "outputs": [
        {
          "output_type": "execute_result",
          "data": {
            "text/plain": [
              "     VAR1    VAR2    VAR3  RESP\n",
              "3     NaN  8921.0  8851.0     0\n",
              "9     NaN  6560.0  8570.0     0\n",
              "20    NaN  1346.0  2141.0     0\n",
              "21    NaN   124.0     NaN     0\n",
              "23    NaN  9379.0  3171.0     1\n",
              "..    ...     ...     ...   ...\n",
              "986   NaN     NaN  4873.0     0\n",
              "988   NaN   224.0  5102.0     1\n",
              "991   NaN  8574.0  5407.0     1\n",
              "997   NaN  4944.0   793.0     0\n",
              "998   NaN  6260.0  2411.0     1\n",
              "\n",
              "[200 rows x 4 columns]"
            ],
            "text/html": [
              "\n",
              "  <div id=\"df-fc825767-f841-4066-995e-cfe75bc1e398\">\n",
              "    <div class=\"colab-df-container\">\n",
              "      <div>\n",
              "<style scoped>\n",
              "    .dataframe tbody tr th:only-of-type {\n",
              "        vertical-align: middle;\n",
              "    }\n",
              "\n",
              "    .dataframe tbody tr th {\n",
              "        vertical-align: top;\n",
              "    }\n",
              "\n",
              "    .dataframe thead th {\n",
              "        text-align: right;\n",
              "    }\n",
              "</style>\n",
              "<table border=\"1\" class=\"dataframe\">\n",
              "  <thead>\n",
              "    <tr style=\"text-align: right;\">\n",
              "      <th></th>\n",
              "      <th>VAR1</th>\n",
              "      <th>VAR2</th>\n",
              "      <th>VAR3</th>\n",
              "      <th>RESP</th>\n",
              "    </tr>\n",
              "  </thead>\n",
              "  <tbody>\n",
              "    <tr>\n",
              "      <th>3</th>\n",
              "      <td>NaN</td>\n",
              "      <td>8921.0</td>\n",
              "      <td>8851.0</td>\n",
              "      <td>0</td>\n",
              "    </tr>\n",
              "    <tr>\n",
              "      <th>9</th>\n",
              "      <td>NaN</td>\n",
              "      <td>6560.0</td>\n",
              "      <td>8570.0</td>\n",
              "      <td>0</td>\n",
              "    </tr>\n",
              "    <tr>\n",
              "      <th>20</th>\n",
              "      <td>NaN</td>\n",
              "      <td>1346.0</td>\n",
              "      <td>2141.0</td>\n",
              "      <td>0</td>\n",
              "    </tr>\n",
              "    <tr>\n",
              "      <th>21</th>\n",
              "      <td>NaN</td>\n",
              "      <td>124.0</td>\n",
              "      <td>NaN</td>\n",
              "      <td>0</td>\n",
              "    </tr>\n",
              "    <tr>\n",
              "      <th>23</th>\n",
              "      <td>NaN</td>\n",
              "      <td>9379.0</td>\n",
              "      <td>3171.0</td>\n",
              "      <td>1</td>\n",
              "    </tr>\n",
              "    <tr>\n",
              "      <th>...</th>\n",
              "      <td>...</td>\n",
              "      <td>...</td>\n",
              "      <td>...</td>\n",
              "      <td>...</td>\n",
              "    </tr>\n",
              "    <tr>\n",
              "      <th>986</th>\n",
              "      <td>NaN</td>\n",
              "      <td>NaN</td>\n",
              "      <td>4873.0</td>\n",
              "      <td>0</td>\n",
              "    </tr>\n",
              "    <tr>\n",
              "      <th>988</th>\n",
              "      <td>NaN</td>\n",
              "      <td>224.0</td>\n",
              "      <td>5102.0</td>\n",
              "      <td>1</td>\n",
              "    </tr>\n",
              "    <tr>\n",
              "      <th>991</th>\n",
              "      <td>NaN</td>\n",
              "      <td>8574.0</td>\n",
              "      <td>5407.0</td>\n",
              "      <td>1</td>\n",
              "    </tr>\n",
              "    <tr>\n",
              "      <th>997</th>\n",
              "      <td>NaN</td>\n",
              "      <td>4944.0</td>\n",
              "      <td>793.0</td>\n",
              "      <td>0</td>\n",
              "    </tr>\n",
              "    <tr>\n",
              "      <th>998</th>\n",
              "      <td>NaN</td>\n",
              "      <td>6260.0</td>\n",
              "      <td>2411.0</td>\n",
              "      <td>1</td>\n",
              "    </tr>\n",
              "  </tbody>\n",
              "</table>\n",
              "<p>200 rows × 4 columns</p>\n",
              "</div>\n",
              "      <button class=\"colab-df-convert\" onclick=\"convertToInteractive('df-fc825767-f841-4066-995e-cfe75bc1e398')\"\n",
              "              title=\"Convert this dataframe to an interactive table.\"\n",
              "              style=\"display:none;\">\n",
              "        \n",
              "  <svg xmlns=\"http://www.w3.org/2000/svg\" height=\"24px\"viewBox=\"0 0 24 24\"\n",
              "       width=\"24px\">\n",
              "    <path d=\"M0 0h24v24H0V0z\" fill=\"none\"/>\n",
              "    <path d=\"M18.56 5.44l.94 2.06.94-2.06 2.06-.94-2.06-.94-.94-2.06-.94 2.06-2.06.94zm-11 1L8.5 8.5l.94-2.06 2.06-.94-2.06-.94L8.5 2.5l-.94 2.06-2.06.94zm10 10l.94 2.06.94-2.06 2.06-.94-2.06-.94-.94-2.06-.94 2.06-2.06.94z\"/><path d=\"M17.41 7.96l-1.37-1.37c-.4-.4-.92-.59-1.43-.59-.52 0-1.04.2-1.43.59L10.3 9.45l-7.72 7.72c-.78.78-.78 2.05 0 2.83L4 21.41c.39.39.9.59 1.41.59.51 0 1.02-.2 1.41-.59l7.78-7.78 2.81-2.81c.8-.78.8-2.07 0-2.86zM5.41 20L4 18.59l7.72-7.72 1.47 1.35L5.41 20z\"/>\n",
              "  </svg>\n",
              "      </button>\n",
              "      \n",
              "  <style>\n",
              "    .colab-df-container {\n",
              "      display:flex;\n",
              "      flex-wrap:wrap;\n",
              "      gap: 12px;\n",
              "    }\n",
              "\n",
              "    .colab-df-convert {\n",
              "      background-color: #E8F0FE;\n",
              "      border: none;\n",
              "      border-radius: 50%;\n",
              "      cursor: pointer;\n",
              "      display: none;\n",
              "      fill: #1967D2;\n",
              "      height: 32px;\n",
              "      padding: 0 0 0 0;\n",
              "      width: 32px;\n",
              "    }\n",
              "\n",
              "    .colab-df-convert:hover {\n",
              "      background-color: #E2EBFA;\n",
              "      box-shadow: 0px 1px 2px rgba(60, 64, 67, 0.3), 0px 1px 3px 1px rgba(60, 64, 67, 0.15);\n",
              "      fill: #174EA6;\n",
              "    }\n",
              "\n",
              "    [theme=dark] .colab-df-convert {\n",
              "      background-color: #3B4455;\n",
              "      fill: #D2E3FC;\n",
              "    }\n",
              "\n",
              "    [theme=dark] .colab-df-convert:hover {\n",
              "      background-color: #434B5C;\n",
              "      box-shadow: 0px 1px 3px 1px rgba(0, 0, 0, 0.15);\n",
              "      filter: drop-shadow(0px 1px 2px rgba(0, 0, 0, 0.3));\n",
              "      fill: #FFFFFF;\n",
              "    }\n",
              "  </style>\n",
              "\n",
              "      <script>\n",
              "        const buttonEl =\n",
              "          document.querySelector('#df-fc825767-f841-4066-995e-cfe75bc1e398 button.colab-df-convert');\n",
              "        buttonEl.style.display =\n",
              "          google.colab.kernel.accessAllowed ? 'block' : 'none';\n",
              "\n",
              "        async function convertToInteractive(key) {\n",
              "          const element = document.querySelector('#df-fc825767-f841-4066-995e-cfe75bc1e398');\n",
              "          const dataTable =\n",
              "            await google.colab.kernel.invokeFunction('convertToInteractive',\n",
              "                                                     [key], {});\n",
              "          if (!dataTable) return;\n",
              "\n",
              "          const docLinkHtml = 'Like what you see? Visit the ' +\n",
              "            '<a target=\"_blank\" href=https://colab.research.google.com/notebooks/data_table.ipynb>data table notebook</a>'\n",
              "            + ' to learn more about interactive tables.';\n",
              "          element.innerHTML = '';\n",
              "          dataTable['output_type'] = 'display_data';\n",
              "          await google.colab.output.renderOutput(dataTable, element);\n",
              "          const docLink = document.createElement('div');\n",
              "          docLink.innerHTML = docLinkHtml;\n",
              "          element.appendChild(docLink);\n",
              "        }\n",
              "      </script>\n",
              "    </div>\n",
              "  </div>\n",
              "  "
            ]
          },
          "metadata": {},
          "execution_count": 70
        }
      ]
    },
    {
      "cell_type": "code",
      "source": [
        "def categoriza_cont()"
      ],
      "metadata": {
        "id": "0VlHlc0SMlrl"
      },
      "execution_count": null,
      "outputs": []
    }
  ]
}