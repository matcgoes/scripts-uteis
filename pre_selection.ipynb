{
 "cells": [
  {
   "cell_type": "code",
   "execution_count": 43,
   "metadata": {},
   "outputs": [],
   "source": [
    "import pandas as pd\n",
    "import numpy as np\n",
    "from sklearn.feature_selection import VarianceThreshold\n",
    "\n",
    "def perform_preselection(df, threshold_missing, threshold_variance, threshold_domain):\n",
    "    # Cálculo do percentual de preenchimento (% de missings) das variáveis\n",
    "    missing_percent = df.isnull().sum() / len(df)\n",
    "    \n",
    "    # Seleção das variáveis numéricas\n",
    "    numeric_vars = df.select_dtypes(include=np.number).columns\n",
    "    \n",
    "    # Aplicação do limiar de variância para as variáveis numéricas\n",
    "    sel = VarianceThreshold(threshold=threshold_variance)\n",
    "    numeric_vars_selected = sel.fit_transform(df[numeric_vars])\n",
    "    \n",
    "    # Seleção das variáveis categóricas\n",
    "    categorical_vars = df.select_dtypes(include='object').columns\n",
    "    \n",
    "    # Preparação dos DataFrames para armazenar as informações sobre a seleção de variáveis\n",
    "    numeric_selection_info = pd.DataFrame(columns=['VAR', 'PCT_MISSING', 'VARIANCIA'])\n",
    "    categorical_selection_info = pd.DataFrame(columns=['VAR', 'PCT_MISSING', 'DOMINIO'])\n",
    "    \n",
    "    # Pré-seleção das variáveis numéricas\n",
    "    for var in numeric_vars:\n",
    "        if missing_percent[var] < threshold_missing:\n",
    "            numeric_selection_info = pd.concat([numeric_selection_info, pd.DataFrame({'VAR': [var],\n",
    "                                                                                       'PCT_MISSING': 1,\n",
    "                                                                                       'VARIANCIA': 0})])\n",
    "        elif np.var(df[var]) > threshold_variance:\n",
    "            numeric_selection_info = pd.concat([numeric_selection_info, pd.DataFrame({'VAR': [var],\n",
    "                                                                                       'PCT_MISSING': 0,\n",
    "                                                                                       'VARIANCIA': 1})])\n",
    "    \n",
    "    # Pré-seleção das variáveis categóricas\n",
    "    for var in categorical_vars:\n",
    "        if missing_percent[var] < threshold_missing:\n",
    "            categorical_selection_info = pd.concat([categorical_selection_info, pd.DataFrame({'VAR': [var],\n",
    "                                                                                       'PCT_MISSING': 1,\n",
    "                                                                                       'DOMINIO': 0})])\n",
    "        elif df[var].value_counts(normalize=True).max() < threshold_domain:\n",
    "            categorical_selection_info = pd.concat([categorical_selection_info, pd.DataFrame({'VAR': [var],\n",
    "                                                                                       'PCT_MISSING': 0,\n",
    "                                                                                       'DOMINIO': 1})])\n",
    "    \n",
    "    # Transformando as colunas 'Selection_Reason' em dummies\n",
    "    # numeric_selection_info = pd.get_dummies(numeric_selection_info, columns=['Selection_Reason'])\n",
    "    # categorical_selection_info = pd.get_dummies(categorical_selection_info, columns=['Selection_Reason'])\n",
    "    \n",
    "    return numeric_selection_info, categorical_selection_info"
   ]
  },
  {
   "cell_type": "code",
   "execution_count": 44,
   "metadata": {},
   "outputs": [],
   "source": [
    "# Gerando dados fictícios\n",
    "np.random.seed(0)\n",
    "data = pd.DataFrame({\n",
    "    'feature_1': np.random.randn(1000),\n",
    "    'feature_2': np.random.randint(0, 2, 1000),\n",
    "    'feature_3': np.random.choice(['A', 'B', 'C'], 1000),\n",
    "    'feature_4': np.random.randint(1, 6, 1000),\n",
    "    'feature_5': np.random.choice([np.nan], 1000),\n",
    "    'target': np.random.randint(0, 2, 1000)\n",
    "})"
   ]
  },
  {
   "cell_type": "code",
   "execution_count": 45,
   "metadata": {},
   "outputs": [
    {
     "name": "stderr",
     "output_type": "stream",
     "text": [
      "c:\\Users\\matcg\\AppData\\Local\\Programs\\Python\\Python311\\Lib\\site-packages\\sklearn\\feature_selection\\_variance_threshold.py:111: RuntimeWarning: Degrees of freedom <= 0 for slice.\n",
      "  self.variances_ = np.nanvar(X, axis=0)\n"
     ]
    }
   ],
   "source": [
    "numeric_selection, categorical_selection = perform_preselection(data, 0.2, 0.01, 0.8)"
   ]
  },
  {
   "cell_type": "code",
   "execution_count": 46,
   "metadata": {},
   "outputs": [
    {
     "data": {
      "text/html": [
       "<div>\n",
       "<style scoped>\n",
       "    .dataframe tbody tr th:only-of-type {\n",
       "        vertical-align: middle;\n",
       "    }\n",
       "\n",
       "    .dataframe tbody tr th {\n",
       "        vertical-align: top;\n",
       "    }\n",
       "\n",
       "    .dataframe thead th {\n",
       "        text-align: right;\n",
       "    }\n",
       "</style>\n",
       "<table border=\"1\" class=\"dataframe\">\n",
       "  <thead>\n",
       "    <tr style=\"text-align: right;\">\n",
       "      <th></th>\n",
       "      <th>VAR</th>\n",
       "      <th>PCT_MISSING</th>\n",
       "      <th>VARIANCIA</th>\n",
       "    </tr>\n",
       "  </thead>\n",
       "  <tbody>\n",
       "    <tr>\n",
       "      <th>0</th>\n",
       "      <td>feature_1</td>\n",
       "      <td>1</td>\n",
       "      <td>0</td>\n",
       "    </tr>\n",
       "    <tr>\n",
       "      <th>0</th>\n",
       "      <td>feature_2</td>\n",
       "      <td>1</td>\n",
       "      <td>0</td>\n",
       "    </tr>\n",
       "    <tr>\n",
       "      <th>0</th>\n",
       "      <td>feature_4</td>\n",
       "      <td>1</td>\n",
       "      <td>0</td>\n",
       "    </tr>\n",
       "    <tr>\n",
       "      <th>0</th>\n",
       "      <td>target</td>\n",
       "      <td>1</td>\n",
       "      <td>0</td>\n",
       "    </tr>\n",
       "  </tbody>\n",
       "</table>\n",
       "</div>"
      ],
      "text/plain": [
       "         VAR PCT_MISSING VARIANCIA\n",
       "0  feature_1           1         0\n",
       "0  feature_2           1         0\n",
       "0  feature_4           1         0\n",
       "0     target           1         0"
      ]
     },
     "execution_count": 46,
     "metadata": {},
     "output_type": "execute_result"
    }
   ],
   "source": [
    "numeric_selection"
   ]
  },
  {
   "cell_type": "code",
   "execution_count": 47,
   "metadata": {},
   "outputs": [
    {
     "data": {
      "text/html": [
       "<div>\n",
       "<style scoped>\n",
       "    .dataframe tbody tr th:only-of-type {\n",
       "        vertical-align: middle;\n",
       "    }\n",
       "\n",
       "    .dataframe tbody tr th {\n",
       "        vertical-align: top;\n",
       "    }\n",
       "\n",
       "    .dataframe thead th {\n",
       "        text-align: right;\n",
       "    }\n",
       "</style>\n",
       "<table border=\"1\" class=\"dataframe\">\n",
       "  <thead>\n",
       "    <tr style=\"text-align: right;\">\n",
       "      <th></th>\n",
       "      <th>VAR</th>\n",
       "      <th>PCT_MISSING</th>\n",
       "      <th>DOMINIO</th>\n",
       "    </tr>\n",
       "  </thead>\n",
       "  <tbody>\n",
       "    <tr>\n",
       "      <th>0</th>\n",
       "      <td>feature_3</td>\n",
       "      <td>1</td>\n",
       "      <td>0</td>\n",
       "    </tr>\n",
       "  </tbody>\n",
       "</table>\n",
       "</div>"
      ],
      "text/plain": [
       "         VAR PCT_MISSING DOMINIO\n",
       "0  feature_3           1       0"
      ]
     },
     "execution_count": 47,
     "metadata": {},
     "output_type": "execute_result"
    }
   ],
   "source": [
    "categorical_selection"
   ]
  },
  {
   "cell_type": "code",
   "execution_count": 42,
   "metadata": {},
   "outputs": [
    {
     "data": {
      "text/plain": [
       "feature_1       0\n",
       "feature_2       0\n",
       "feature_3       0\n",
       "feature_4       0\n",
       "feature_5    1000\n",
       "target          0\n",
       "dtype: int64"
      ]
     },
     "execution_count": 42,
     "metadata": {},
     "output_type": "execute_result"
    }
   ],
   "source": [
    "data.isnull().sum()"
   ]
  }
 ],
 "metadata": {
  "kernelspec": {
   "display_name": "Python 3",
   "language": "python",
   "name": "python3"
  },
  "language_info": {
   "codemirror_mode": {
    "name": "ipython",
    "version": 3
   },
   "file_extension": ".py",
   "mimetype": "text/x-python",
   "name": "python",
   "nbconvert_exporter": "python",
   "pygments_lexer": "ipython3",
   "version": "3.11.1"
  },
  "orig_nbformat": 4
 },
 "nbformat": 4,
 "nbformat_minor": 2
}
